{
 "cells": [
  {
   "cell_type": "code",
   "execution_count": 1,
   "metadata": {},
   "outputs": [],
   "source": [
    "import numpy as np\n",
    "import pandas as pd\n",
    "import matplotlib.pyplot as plt"
   ]
  },
  {
   "cell_type": "code",
   "execution_count": 4,
   "metadata": {},
   "outputs": [],
   "source": [
    "x = pd.read_csv('Linear_X_Train.csv')\n",
    "y = pd.read_csv('Linear_Y_Train.csv')\n",
    "\n",
    "dfx = x.values\n",
    "dfy = y.values"
   ]
  },
  {
   "cell_type": "code",
   "execution_count": 5,
   "metadata": {},
   "outputs": [
    {
     "data": {
      "text/plain": [
       "<matplotlib.collections.PathCollection at 0x271cee3f648>"
      ]
     },
     "execution_count": 5,
     "metadata": {},
     "output_type": "execute_result"
    },
    {
     "data": {
      "image/png": "[encoded data removed]",
      "text/plain": [
       "<Figure size 432x288 with 1 Axes>"
      ]
     },
     "metadata": {
      "needs_background": "light"
     },
     "output_type": "display_data"
    }
   ],
   "source": [
    "plt.scatter(dfx,dfy)"
   ]
  },
  {
   "cell_type": "code",
   "execution_count": 6,
   "metadata": {},
   "outputs": [
    {
     "name": "stdout",
     "output_type": "stream",
     "text": [
      "[-0.28930742 -0.58880963  1.02750749 ... -0.30516366  1.67583291\n",
      " -0.49175724]\n",
      "[-9.11011171e-02 -5.34677208e+01  7.54570088e+01 ... -3.49832749e+01\n",
      "  1.45206092e+02 -1.71244939e+01]\n"
     ]
    }
   ],
   "source": [
    "dfx = dfx.reshape((-1,))\n",
    "dfy = dfy.reshape((-1,))\n",
    "dfx.shape\n",
    "dfy.shape\n",
    "print(dfx)\n",
    "print(dfy)"
   ]
  },
  {
   "cell_type": "code",
   "execution_count": 13,
   "metadata": {},
   "outputs": [
    {
     "name": "stdout",
     "output_type": "stream",
     "text": [
      "[2.34158724e+67 2.34158724e+67]\n"
     ]
    }
   ],
   "source": [
    "theta = np.array([3.0,4.0])\n",
    "learning_rate = 0.001\n",
    "itr = 0\n",
    "max_itr = 100\n",
    "error_list = []\n",
    "theta_list = []\n",
    "\n",
    "while(itr<=max_itr):\n",
    "    grad = np.zeros((2,))\n",
    "    error = 0\n",
    "    m = dfx.shape[0]\n",
    "    \n",
    "    for i in range(m):\n",
    "        grad[0] = grad[0] - ((theta[0] + theta[1]*dfx[i]) - dfy[i])\n",
    "        grad[1] = grad[1] - ((theta[0] + theta[1]*dfx[i]) - dfy[i])\n",
    "        \n",
    "    for j in range(m):\n",
    "        error = ((theta[0] + (theta[1]*dfx[i]))- dfy[i])**2\n",
    "    \n",
    "    error_list.append(error)\n",
    "    theta_list.append(theta)\n",
    "    \n",
    "    theta[0] = theta[0] - learning_rate*grad[0]\n",
    "    theta[1] = theta[1] - learning_rate*grad[1]\n",
    "    \n",
    "    itr = itr +1\n",
    "    \n",
    "print(theta)             "
   ]
  },
  {
   "cell_type": "code",
   "execution_count": 14,
   "metadata": {},
   "outputs": [
    {
     "data": {
      "image/png": "[encoded data removed]",
      "text/plain": [
       "<Figure size 432x288 with 1 Axes>"
      ]
     },
     "metadata": {
      "needs_background": "light"
     },
     "output_type": "display_data"
    }
   ],
   "source": [
    "plt.plot(error_list)\n",
    "plt.show()"
   ]
  },
  {
   "cell_type": "code",
   "execution_count": null,
   "metadata": {},
   "outputs": [],
   "source": []
  },
  {
   "cell_type": "code",
   "execution_count": null,
   "metadata": {},
   "outputs": [],
   "source": []
  },
  {
   "cell_type": "code",
   "execution_count": null,
   "metadata": {},
   "outputs": [],
   "source": []
  }
 ],
 "metadata": {
  "kernelspec": {
   "display_name": "Python 3",
   "language": "python",
   "name": "python3"
  },
  "language_info": {
   "codemirror_mode": {
    "name": "ipython",
    "version": 3
   },
   "file_extension": ".py",
   "mimetype": "text/x-python",
   "name": "python",
   "nbconvert_exporter": "python",
   "pygments_lexer": "ipython3",
   "version": "3.7.4"
  }
 },
 "nbformat": 4,
 "nbformat_minor": 2
}
